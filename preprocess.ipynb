{
 "cells": [
  {
   "cell_type": "markdown",
   "id": "f16e457e-056f-4c09-8f74-a2eb26ddd3cb",
   "metadata": {},
   "source": [
    "### 데이터 전처리\n",
    "* 데이터 인코딩\n",
    "    - scikit learn 은 string 은 받아들이지 않음\n",
    "    - 카테고리화 및 숫자로 변환\n",
    "    - LabelEncoder\n",
    "    "
   ]
  },
  {
   "cell_type": "code",
   "execution_count": 3,
   "id": "f2228085-c242-4c45-af27-fdb0bf28feea",
   "metadata": {},
   "outputs": [],
   "source": [
    "# 라이브러리 불러오기\n",
    "import sklearn\n",
    "import numpy as np\n",
    "import pandas as pd\n",
    "import matplotlib as mpl\n",
    "import matplotlib.pyplot as plt\n",
    "import seaborn as sns\n",
    "from sklearn.preprocessing import LabelEncoder,OneHotEncoder\n"
   ]
  },
  {
   "cell_type": "code",
   "execution_count": 5,
   "id": "da3ca7ec-3c97-4e4f-9bf0-fbd345a14ae5",
   "metadata": {
    "tags": []
   },
   "outputs": [
    {
     "name": "stdout",
     "output_type": "stream",
     "text": [
      "['TV' '냉장고' '세탁기'] [0 1 2 0 1 1]\n",
      "TV\n",
      "냉장고\n",
      "세탁기\n",
      "TV\n",
      "냉장고\n",
      "냉장고\n",
      "******************************\n",
      "[2 1 0] \n",
      "*********\n",
      " [[2]\n",
      " [1]\n",
      " [0]]\n"
     ]
    },
    {
     "data": {
      "text/plain": [
       "array([[1., 0., 0.],\n",
       "       [0., 1., 0.],\n",
       "       [0., 0., 1.],\n",
       "       [1., 0., 0.],\n",
       "       [0., 1., 0.],\n",
       "       [0., 1., 0.]])"
      ]
     },
     "execution_count": 5,
     "metadata": {},
     "output_type": "execute_result"
    }
   ],
   "source": [
    "items=['세탁기','냉장고','TV']\n",
    "myitem=['TV','냉장고','세탁기','TV','냉장고','냉장고']\n",
    "# 인코더 설정\n",
    "lencoder=LabelEncoder()\n",
    "# 인코딩 학습\n",
    "lencoder.fit(items)\n",
    "# 인코딩 변환\n",
    "labels=lencoder.transform(myitem)\n",
    "cate=lencoder.classes_\n",
    "# 분류모델 확인\n",
    "print(lencoder.classes_,labels)\n",
    "for label in labels:\n",
    "    print(cate[label])\n",
    "print('*'*30)\n",
    "####### one hot encoding ############\n",
    "lbls=lencoder.transform(items)\n",
    "\n",
    "rlbls=lbls.reshape(-1,1)\n",
    "print(lbls,'\\n*********\\n',rlbls)\n",
    "oencoder=OneHotEncoder()\n",
    "oencoder.fit(rlbls)\n",
    "ritems=labels.reshape(-1,1)#1*8\n",
    "onelbl=oencoder.transform(ritems)\n",
    "onehotarr=onelbl.toarray()\n",
    "onehotarr\n"
   ]
  },
  {
   "cell_type": "markdown",
   "id": "e27ff7c9-c4cd-4a2b-8d56-366fbe6a8a94",
   "metadata": {},
   "source": [
    "### 원핫인코딩\n",
    "* 1개만 1로 만드는 카테고리 분류 방식\n",
    "* 카테고리별 확률기반 머신러닝에 유용\n"
   ]
  },
  {
   "cell_type": "code",
   "execution_count": 6,
   "id": "2b69e327-60a3-4f47-a08f-bb56e304eb07",
   "metadata": {},
   "outputs": [
    {
     "data": {
      "text/html": [
       "<div>\n",
       "<style scoped>\n",
       "    .dataframe tbody tr th:only-of-type {\n",
       "        vertical-align: middle;\n",
       "    }\n",
       "\n",
       "    .dataframe tbody tr th {\n",
       "        vertical-align: top;\n",
       "    }\n",
       "\n",
       "    .dataframe thead th {\n",
       "        text-align: right;\n",
       "    }\n",
       "</style>\n",
       "<table border=\"1\" class=\"dataframe\">\n",
       "  <thead>\n",
       "    <tr style=\"text-align: right;\">\n",
       "      <th></th>\n",
       "      <th>item_TV</th>\n",
       "      <th>item_냉장고</th>\n",
       "      <th>item_카메라</th>\n",
       "    </tr>\n",
       "  </thead>\n",
       "  <tbody>\n",
       "    <tr>\n",
       "      <th>카메라</th>\n",
       "      <td>0</td>\n",
       "      <td>0</td>\n",
       "      <td>1</td>\n",
       "    </tr>\n",
       "    <tr>\n",
       "      <th>TV</th>\n",
       "      <td>1</td>\n",
       "      <td>0</td>\n",
       "      <td>0</td>\n",
       "    </tr>\n",
       "    <tr>\n",
       "      <th>TV</th>\n",
       "      <td>1</td>\n",
       "      <td>0</td>\n",
       "      <td>0</td>\n",
       "    </tr>\n",
       "    <tr>\n",
       "      <th>냉장고</th>\n",
       "      <td>0</td>\n",
       "      <td>1</td>\n",
       "      <td>0</td>\n",
       "    </tr>\n",
       "    <tr>\n",
       "      <th>TV</th>\n",
       "      <td>1</td>\n",
       "      <td>0</td>\n",
       "      <td>0</td>\n",
       "    </tr>\n",
       "  </tbody>\n",
       "</table>\n",
       "</div>"
      ],
      "text/plain": [
       "     item_TV  item_냉장고  item_카메라\n",
       "카메라        0         0         1\n",
       "TV         1         0         0\n",
       "TV         1         0         0\n",
       "냉장고        0         1         0\n",
       "TV         1         0         0"
      ]
     },
     "execution_count": 6,
     "metadata": {},
     "output_type": "execute_result"
    }
   ],
   "source": [
    "#pandas get_dummies 이용하는 방법\n",
    "\n",
    "idf=pd.DataFrame({'item':['카메라','TV','TV','냉장고','TV']})\n",
    "oidf=pd.get_dummies(idf)\n",
    "oidf.index=['카메라','TV','TV','냉장고','TV']\n",
    "oidf"
   ]
  },
  {
   "cell_type": "markdown",
   "id": "59e8bcdc-5fbc-4193-8884-7fffad4b8b51",
   "metadata": {},
   "source": [
    "### 집값 모델의 예\n",
    "- 집값=범죄율*w1+방의갯수*w2+고속도로접근성*w3+건물년수*w4\n",
    "- 범죄율:0.003*1000=3\n",
    "- 방의 갯수:4*1=4\n"
   ]
  },
  {
   "cell_type": "code",
   "execution_count": 7,
   "id": "938bf8c4-232c-4318-b4ca-95cf726924a6",
   "metadata": {},
   "outputs": [
    {
     "data": {
      "text/plain": [
       "[<matplotlib.lines.Line2D at 0x7fbb517c93d0>]"
      ]
     },
     "execution_count": 7,
     "metadata": {},
     "output_type": "execute_result"
    },
    {
     "data": {
      "image/png": "[encoded data removed]",
      "text/plain": [
       "<Figure size 432x288 with 1 Axes>"
      ]
     },
     "metadata": {
      "needs_background": "light"
     },
     "output_type": "display_data"
    }
   ],
   "source": [
    "data=[1,2,3,4,5,10000000]\n",
    "plt.plot(data)"
   ]
  },
  {
   "cell_type": "code",
   "execution_count": 8,
   "id": "7d397e65-004c-456a-8842-3fe3bb1c2886",
   "metadata": {},
   "outputs": [
    {
     "data": {
      "text/plain": [
       "[1e-07, 2e-07, 3e-07, 4e-07, 5e-07, 1.0]"
      ]
     },
     "execution_count": 8,
     "metadata": {},
     "output_type": "execute_result"
    },
    {
     "data": {
      "image/png": "[encoded data removed]",
      "text/plain": [
       "<Figure size 432x288 with 1 Axes>"
      ]
     },
     "metadata": {
      "needs_background": "light"
     },
     "output_type": "display_data"
    }
   ],
   "source": [
    "data=[1,2,3,4,5,10000000]\n",
    "mxdata=[]\n",
    "for d in data:\n",
    "    mxdata.append(d/10000000)\n",
    "plt.plot(mxdata)\n",
    "mxdata"
   ]
  },
  {
   "cell_type": "code",
   "execution_count": 9,
   "id": "37cdb09a-18b8-4ea4-8028-6c6d4078f759",
   "metadata": {},
   "outputs": [
    {
     "data": {
      "text/plain": [
       "[0.0,\n",
       " 0.30102999566398125,\n",
       " 0.4771212547196626,\n",
       " 0.6020599913279625,\n",
       " 0.6989700043360187,\n",
       " 7.0]"
      ]
     },
     "execution_count": 9,
     "metadata": {},
     "output_type": "execute_result"
    },
    {
     "data": {
      "image/png": "[encoded data removed]",
      "text/plain": [
       "<Figure size 432x288 with 1 Axes>"
      ]
     },
     "metadata": {
      "needs_background": "light"
     },
     "output_type": "display_data"
    }
   ],
   "source": [
    "data=[1,2,3,4,5,10000000]\n",
    "lgdata=[]\n",
    "for d in data:\n",
    "    lgdata.append(np.log10(d/10000000)+7)\n",
    "plt.plot(lgdata)\n",
    "lgdata"
   ]
  },
  {
   "cell_type": "markdown",
   "id": "13139f63-6be8-48c0-b3cf-47018fab9735",
   "metadata": {},
   "source": [
    "## 정규분포 중심극한정리中心極限定理\n",
    "- Central Limit Theorem(CLT)\n",
    "    - 표본의 크기가 커질수록 \n",
    "    - 표본 평균의 분포는 모집단의 분포 모양과는 관계없이 \n",
    "    - 정규분포에 가까워진다는 정리.\n",
    "- 대수의 법칙:큰 수의 법칙(law of large numbers, LLN) \n",
    "    - 경험적 확률과 수학적 확률 사이의 관계를 나타내는 법칙으로, \n",
    "    - 표본집단의 크기가 커지면 (일반적>30)\n",
    "    - 그 표본평균이 모평균에 가까워짐\n",
    "- 정규화\n",
    "    - 표준정규 분포화 하는것을 정규화\n",
    "    * 표준 정규 분포(standard normal distribution) 화 하는것 \n",
    "    - 확률통계에서 아주 중요한 역할\n",
    "\n",
    "* 정규화의 목적\n",
    "    - 서로 다른 정규분포 사이에 비교를 하거나 \n",
    "    - 특정 정규분포를 토대로 하여 통계적 추정 등의 분석작업을 해야 할 때 \n",
    "    - 필요에 따라 정규분포의 분산과 표준편차를 표준에 맞게 통일시키는 것\n",
    "* 방법\n",
    "    정규화 = (x-평균)/분산\n",
    "    \n",
    "    "
   ]
  },
  {
   "cell_type": "code",
   "execution_count": 1,
   "id": "51c23c16-5444-41a1-8eac-f229067189f5",
   "metadata": {},
   "outputs": [],
   "source": [
    "# 라이브러리 불러오기\n",
    "import sklearn\n",
    "import numpy as np\n",
    "import pandas as pd\n",
    "import matplotlib as mpl\n",
    "import matplotlib.pyplot as plt\n",
    "import seaborn as sns"
   ]
  },
  {
   "cell_type": "code",
   "execution_count": 2,
   "id": "4b248a66-cd3e-4e17-9ea6-8f5d001b0145",
   "metadata": {},
   "outputs": [
    {
     "data": {
      "text/html": [
       "<div>\n",
       "<style scoped>\n",
       "    .dataframe tbody tr th:only-of-type {\n",
       "        vertical-align: middle;\n",
       "    }\n",
       "\n",
       "    .dataframe tbody tr th {\n",
       "        vertical-align: top;\n",
       "    }\n",
       "\n",
       "    .dataframe thead th {\n",
       "        text-align: right;\n",
       "    }\n",
       "</style>\n",
       "<table border=\"1\" class=\"dataframe\">\n",
       "  <thead>\n",
       "    <tr style=\"text-align: right;\">\n",
       "      <th></th>\n",
       "      <th>slen</th>\n",
       "      <th>swid</th>\n",
       "      <th>plen</th>\n",
       "      <th>pwid</th>\n",
       "      <th>target</th>\n",
       "    </tr>\n",
       "  </thead>\n",
       "  <tbody>\n",
       "    <tr>\n",
       "      <th>145</th>\n",
       "      <td>6.7</td>\n",
       "      <td>3.0</td>\n",
       "      <td>5.2</td>\n",
       "      <td>2.3</td>\n",
       "      <td>2</td>\n",
       "    </tr>\n",
       "    <tr>\n",
       "      <th>146</th>\n",
       "      <td>6.3</td>\n",
       "      <td>2.5</td>\n",
       "      <td>5.0</td>\n",
       "      <td>1.9</td>\n",
       "      <td>2</td>\n",
       "    </tr>\n",
       "    <tr>\n",
       "      <th>147</th>\n",
       "      <td>6.5</td>\n",
       "      <td>3.0</td>\n",
       "      <td>5.2</td>\n",
       "      <td>2.0</td>\n",
       "      <td>2</td>\n",
       "    </tr>\n",
       "    <tr>\n",
       "      <th>148</th>\n",
       "      <td>6.2</td>\n",
       "      <td>3.4</td>\n",
       "      <td>5.4</td>\n",
       "      <td>2.3</td>\n",
       "      <td>2</td>\n",
       "    </tr>\n",
       "    <tr>\n",
       "      <th>149</th>\n",
       "      <td>5.9</td>\n",
       "      <td>3.0</td>\n",
       "      <td>5.1</td>\n",
       "      <td>1.8</td>\n",
       "      <td>2</td>\n",
       "    </tr>\n",
       "  </tbody>\n",
       "</table>\n",
       "</div>"
      ],
      "text/plain": [
       "     slen  swid  plen  pwid  target\n",
       "145   6.7   3.0   5.2   2.3       2\n",
       "146   6.3   2.5   5.0   1.9       2\n",
       "147   6.5   3.0   5.2   2.0       2\n",
       "148   6.2   3.4   5.4   2.3       2\n",
       "149   5.9   3.0   5.1   1.8       2"
      ]
     },
     "execution_count": 2,
     "metadata": {},
     "output_type": "execute_result"
    }
   ],
   "source": [
    "from sklearn.datasets import load_iris\n",
    "iris=load_iris()\n",
    "cols=['slen','swid','plen','pwid']\n",
    "idf=pd.DataFrame(iris['data'],columns=cols)\n",
    "idf['target']=iris['target']\n",
    "idf.tail()"
   ]
  },
  {
   "cell_type": "code",
   "execution_count": 3,
   "id": "849d641b-c8b7-4908-ad6b-171ba8e13eb8",
   "metadata": {
    "tags": []
   },
   "outputs": [
    {
     "data": {
      "text/html": [
       "<div>\n",
       "<style scoped>\n",
       "    .dataframe tbody tr th:only-of-type {\n",
       "        vertical-align: middle;\n",
       "    }\n",
       "\n",
       "    .dataframe tbody tr th {\n",
       "        vertical-align: top;\n",
       "    }\n",
       "\n",
       "    .dataframe thead th {\n",
       "        text-align: right;\n",
       "    }\n",
       "</style>\n",
       "<table border=\"1\" class=\"dataframe\">\n",
       "  <thead>\n",
       "    <tr style=\"text-align: right;\">\n",
       "      <th></th>\n",
       "      <th>0</th>\n",
       "      <th>1</th>\n",
       "      <th>2</th>\n",
       "      <th>3</th>\n",
       "      <th>4</th>\n",
       "    </tr>\n",
       "  </thead>\n",
       "  <tbody>\n",
       "    <tr>\n",
       "      <th>0</th>\n",
       "      <td>-0.900681</td>\n",
       "      <td>1.019004</td>\n",
       "      <td>-1.340227</td>\n",
       "      <td>-1.315444</td>\n",
       "      <td>-1.224745</td>\n",
       "    </tr>\n",
       "    <tr>\n",
       "      <th>1</th>\n",
       "      <td>-1.143017</td>\n",
       "      <td>-0.131979</td>\n",
       "      <td>-1.340227</td>\n",
       "      <td>-1.315444</td>\n",
       "      <td>-1.224745</td>\n",
       "    </tr>\n",
       "    <tr>\n",
       "      <th>2</th>\n",
       "      <td>-1.385353</td>\n",
       "      <td>0.328414</td>\n",
       "      <td>-1.397064</td>\n",
       "      <td>-1.315444</td>\n",
       "      <td>-1.224745</td>\n",
       "    </tr>\n",
       "    <tr>\n",
       "      <th>3</th>\n",
       "      <td>-1.506521</td>\n",
       "      <td>0.098217</td>\n",
       "      <td>-1.283389</td>\n",
       "      <td>-1.315444</td>\n",
       "      <td>-1.224745</td>\n",
       "    </tr>\n",
       "    <tr>\n",
       "      <th>4</th>\n",
       "      <td>-1.021849</td>\n",
       "      <td>1.249201</td>\n",
       "      <td>-1.340227</td>\n",
       "      <td>-1.315444</td>\n",
       "      <td>-1.224745</td>\n",
       "    </tr>\n",
       "    <tr>\n",
       "      <th>...</th>\n",
       "      <td>...</td>\n",
       "      <td>...</td>\n",
       "      <td>...</td>\n",
       "      <td>...</td>\n",
       "      <td>...</td>\n",
       "    </tr>\n",
       "    <tr>\n",
       "      <th>145</th>\n",
       "      <td>1.038005</td>\n",
       "      <td>-0.131979</td>\n",
       "      <td>0.819596</td>\n",
       "      <td>1.448832</td>\n",
       "      <td>1.224745</td>\n",
       "    </tr>\n",
       "    <tr>\n",
       "      <th>146</th>\n",
       "      <td>0.553333</td>\n",
       "      <td>-1.282963</td>\n",
       "      <td>0.705921</td>\n",
       "      <td>0.922303</td>\n",
       "      <td>1.224745</td>\n",
       "    </tr>\n",
       "    <tr>\n",
       "      <th>147</th>\n",
       "      <td>0.795669</td>\n",
       "      <td>-0.131979</td>\n",
       "      <td>0.819596</td>\n",
       "      <td>1.053935</td>\n",
       "      <td>1.224745</td>\n",
       "    </tr>\n",
       "    <tr>\n",
       "      <th>148</th>\n",
       "      <td>0.432165</td>\n",
       "      <td>0.788808</td>\n",
       "      <td>0.933271</td>\n",
       "      <td>1.448832</td>\n",
       "      <td>1.224745</td>\n",
       "    </tr>\n",
       "    <tr>\n",
       "      <th>149</th>\n",
       "      <td>0.068662</td>\n",
       "      <td>-0.131979</td>\n",
       "      <td>0.762758</td>\n",
       "      <td>0.790671</td>\n",
       "      <td>1.224745</td>\n",
       "    </tr>\n",
       "  </tbody>\n",
       "</table>\n",
       "<p>150 rows × 5 columns</p>\n",
       "</div>"
      ],
      "text/plain": [
       "            0         1         2         3         4\n",
       "0   -0.900681  1.019004 -1.340227 -1.315444 -1.224745\n",
       "1   -1.143017 -0.131979 -1.340227 -1.315444 -1.224745\n",
       "2   -1.385353  0.328414 -1.397064 -1.315444 -1.224745\n",
       "3   -1.506521  0.098217 -1.283389 -1.315444 -1.224745\n",
       "4   -1.021849  1.249201 -1.340227 -1.315444 -1.224745\n",
       "..        ...       ...       ...       ...       ...\n",
       "145  1.038005 -0.131979  0.819596  1.448832  1.224745\n",
       "146  0.553333 -1.282963  0.705921  0.922303  1.224745\n",
       "147  0.795669 -0.131979  0.819596  1.053935  1.224745\n",
       "148  0.432165  0.788808  0.933271  1.448832  1.224745\n",
       "149  0.068662 -0.131979  0.762758  0.790671  1.224745\n",
       "\n",
       "[150 rows x 5 columns]"
      ]
     },
     "execution_count": 3,
     "metadata": {},
     "output_type": "execute_result"
    }
   ],
   "source": [
    "from sklearn.preprocessing import StandardScaler\n",
    "# 스케일러 정의\n",
    "scaler=StandardScaler()\n",
    "#학습\n",
    "scaler.fit(idf)\n",
    "# 변환\n",
    "st_iris=scaler.transform(idf)\n",
    "st_idf=pd.DataFrame(st_iris)\n",
    "st_idf"
   ]
  },
  {
   "cell_type": "markdown",
   "id": "33f54586-380c-4efe-84db-90c53e0add12",
   "metadata": {},
   "source": [
    "* MinMaxScaler\n",
    "    - 데이터를 등간격으로 0~1사이에 분포 스케일링 하는 방법\n"
   ]
  },
  {
   "cell_type": "code",
   "execution_count": 5,
   "id": "bd400660-2dda-47a0-a8f9-a3e4535941b5",
   "metadata": {},
   "outputs": [
    {
     "data": {
      "text/html": [
       "<div>\n",
       "<style scoped>\n",
       "    .dataframe tbody tr th:only-of-type {\n",
       "        vertical-align: middle;\n",
       "    }\n",
       "\n",
       "    .dataframe tbody tr th {\n",
       "        vertical-align: top;\n",
       "    }\n",
       "\n",
       "    .dataframe thead th {\n",
       "        text-align: right;\n",
       "    }\n",
       "</style>\n",
       "<table border=\"1\" class=\"dataframe\">\n",
       "  <thead>\n",
       "    <tr style=\"text-align: right;\">\n",
       "      <th></th>\n",
       "      <th>0</th>\n",
       "      <th>1</th>\n",
       "      <th>2</th>\n",
       "      <th>3</th>\n",
       "      <th>4</th>\n",
       "    </tr>\n",
       "  </thead>\n",
       "  <tbody>\n",
       "    <tr>\n",
       "      <th>145</th>\n",
       "      <td>0.666667</td>\n",
       "      <td>0.416667</td>\n",
       "      <td>0.711864</td>\n",
       "      <td>0.916667</td>\n",
       "      <td>1.0</td>\n",
       "    </tr>\n",
       "    <tr>\n",
       "      <th>146</th>\n",
       "      <td>0.555556</td>\n",
       "      <td>0.208333</td>\n",
       "      <td>0.677966</td>\n",
       "      <td>0.750000</td>\n",
       "      <td>1.0</td>\n",
       "    </tr>\n",
       "    <tr>\n",
       "      <th>147</th>\n",
       "      <td>0.611111</td>\n",
       "      <td>0.416667</td>\n",
       "      <td>0.711864</td>\n",
       "      <td>0.791667</td>\n",
       "      <td>1.0</td>\n",
       "    </tr>\n",
       "    <tr>\n",
       "      <th>148</th>\n",
       "      <td>0.527778</td>\n",
       "      <td>0.583333</td>\n",
       "      <td>0.745763</td>\n",
       "      <td>0.916667</td>\n",
       "      <td>1.0</td>\n",
       "    </tr>\n",
       "    <tr>\n",
       "      <th>149</th>\n",
       "      <td>0.444444</td>\n",
       "      <td>0.416667</td>\n",
       "      <td>0.694915</td>\n",
       "      <td>0.708333</td>\n",
       "      <td>1.0</td>\n",
       "    </tr>\n",
       "  </tbody>\n",
       "</table>\n",
       "</div>"
      ],
      "text/plain": [
       "            0         1         2         3    4\n",
       "145  0.666667  0.416667  0.711864  0.916667  1.0\n",
       "146  0.555556  0.208333  0.677966  0.750000  1.0\n",
       "147  0.611111  0.416667  0.711864  0.791667  1.0\n",
       "148  0.527778  0.583333  0.745763  0.916667  1.0\n",
       "149  0.444444  0.416667  0.694915  0.708333  1.0"
      ]
     },
     "execution_count": 5,
     "metadata": {},
     "output_type": "execute_result"
    }
   ],
   "source": [
    "from  sklearn.preprocessing import MinMaxScaler\n",
    "mscaler=MinMaxScaler()\n",
    "mscaler.fit(idf)\n",
    "m_iris=mscaler.transform(idf)\n",
    "m_idf=pd.DataFrame(m_iris)\n",
    "m_idf.tail()"
   ]
  },
  {
   "cell_type": "markdown",
   "id": "c0796bba-4ef0-4af1-9faa-256b7752e4e2",
   "metadata": {},
   "source": [
    "* 스케일링시 주의사항\n",
    "    - 반드시 트레이닝셋과 데이터셋이 동일 스케일링 모델을 따른다\n",
    "        - 전체 스케일링후 테스트셋과 데이터셋으로 변환\n",
    "        - 부득이한경우 fit 과 transform을 분리 사용하여 스케일링 기준을 맞춘다\n",
    "    "
   ]
  },
  {
   "cell_type": "markdown",
   "id": "69e9d055-7185-4fcd-9fc5-ce20423e54f8",
   "metadata": {},
   "source": [
    "* Standard Scaler : 특정한 정규분포를 가정하는 모델(회귀모델, 로지스틱 회귀모델...)\n",
    "* Min-Max Scaler : 특정 분포를 가정하지 않는 모델(신경망, k-최근접이웃...)"
   ]
  },
  {
   "cell_type": "code",
   "execution_count": null,
   "id": "08576a5e-23ad-49c8-9150-e257e5057638",
   "metadata": {},
   "outputs": [],
   "source": []
  }
 ],
 "metadata": {
  "kernelspec": {
   "display_name": "Python 3 (ipykernel)",
   "language": "python",
   "name": "python3"
  },
  "language_info": {
   "codemirror_mode": {
    "name": "ipython",
    "version": 3
   },
   "file_extension": ".py",
   "mimetype": "text/x-python",
   "name": "python",
   "nbconvert_exporter": "python",
   "pygments_lexer": "ipython3",
   "version": "3.7.11"
  }
 },
 "nbformat": 4,
 "nbformat_minor": 5
}
