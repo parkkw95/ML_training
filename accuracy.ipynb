{
 "cells": [
  {
   "cell_type": "markdown",
   "id": "3da0d14e-c4d6-4011-b58a-d5a7e15c1c08",
   "metadata": {},
   "source": [
    "### 정확성\n",
    "* 예측의 정확성을 말하는 지표로\n",
    "    - 정확도=예측이 동일한 건수/전체 예측 데이터 건수\n",
    "### 불균형 데이터의 문제\n",
    "* 예측 데이터가 편향되어 있는경우\n",
    "    - 단순 정확도는 문제 발생\n",
    "    "
   ]
  },
  {
   "cell_type": "code",
   "execution_count": 1,
   "id": "e53759c3-5f7b-43b1-9b98-af2a2e01bdd0",
   "metadata": {},
   "outputs": [],
   "source": [
    "import sklearn\n",
    "import numpy as np\n",
    "import pandas as pd\n",
    "import matplotlib as mpl\n",
    "import matplotlib.pyplot as plt\n",
    "import seaborn as sns"
   ]
  },
  {
   "cell_type": "code",
   "execution_count": 2,
   "id": "cda40771-c02c-4079-ad65-ad3ded7ed762",
   "metadata": {},
   "outputs": [
    {
     "data": {
      "text/plain": [
       "0.8"
      ]
     },
     "execution_count": 2,
     "metadata": {},
     "output_type": "execute_result"
    }
   ],
   "source": [
    "from sklearn.metrics import accuracy_score\n",
    "d1=[1,2,3,4,5]\n",
    "d2=[1,2,3,4,6]\n",
    "acc=accuracy_score(d1,d2)\n",
    "acc"
   ]
  },
  {
   "cell_type": "code",
   "execution_count": 3,
   "id": "ef63c068-a933-4aa7-a0f0-2239e1a2f8cf",
   "metadata": {},
   "outputs": [
    {
     "data": {
      "text/plain": [
       "0.9"
      ]
     },
     "execution_count": 3,
     "metadata": {},
     "output_type": "execute_result"
    }
   ],
   "source": [
    "d1=[0,0,0,0,0,0,1,0,0,0] # 실제데이터\n",
    "d2=[0,0,0,0,0,0,0,0,0,0] # 예측모델\n",
    "\n",
    "acc=accuracy_score(d1,d2)\n",
    "acc"
   ]
  },
  {
   "cell_type": "markdown",
   "id": "da7161ea-1320-480c-b991-2567c17423d9",
   "metadata": {},
   "source": [
    "### 위험정보가 포함된 형태의 정확도\n",
    "* 통계 Positive\n",
    "    - 나의 가설이 맞다-> 귀무가설의 원래목표인 기각에 성공 \n",
    "        - True P : 실제 기각 영역인데 기각 시킴\n",
    "        - False P: 기각 하였으나 잘못: type 1 error\n",
    "    - 나의 가설이 잘못됬다 -> 귀무가설의 원래 목표인 기각에 실패\n",
    "        - True N : 실제 아닌데 아닌것으로 판단\n",
    "        - False N: 실제 기각 영역이 아닌데 기각됨 type 2 error\n",
    "    \n",
    "\n",
    "* 오차행렬\n",
    "\n",
    "|구분|예측 Negative| 예측Positive|\n",
    "|---|---|---|\n",
    "|실제 Negative|TN (True Negative)| FP (False Positive)|\n",
    "|실제 Positive|FN(False Negative)| TP (True Positive)|\n",
    "\n",
    "* 정확도 =(TN+TP)/(TN+TP+FN+FP)\n",
    "    - 예측값이 정확히 맞은것/ 전체 예측수\n",
    "    \n",
    "* 정밀도 (Precision) = TP/(TP+FP)\n",
    "    - Positive 양성 예측한 결과비율이 정확한가\n",
    "    - 예) \n",
    "        * 스팸메일의 경우P 스펨메일로 분류 안했을때 분류 미스 FN-> 그닥 문제 없음\n",
    "        * 스팸메일 아닌것N을 스팸메일로 FP 분류 잘못 업무 차질있음(심각)-> FP를 줄여야함\n",
    "* 재현율(민감도, Recall,Sensitive) (Recall)= TP/(TP+FN)\n",
    "    - 양성예측이 Positive 한가\n",
    "    - 예)침입탐지\n",
    "        * 침입시도아닌것N을 침입으로 신고함: 확인후 처리 -> 업무상 큰 지장 없음\n",
    "        * 침입시도P인데 실패하면 치명적 FN ->FN 을 줄이기\n",
    "* F1 Score\n",
    "    * 정밀도/민감도 상호 Trade off 관계-> 하나를 높이면 하나는 낮아짐\n",
    "    - 정밀도와 재현율 모두 중요할시-> 균형있는 점수가 필요\n",
    "    - 정밀도와 재현율의 조화평균\n",
    "    - F1-score=2*(정밀도*민감도)/(정밀도+민감도)\n",
    "    \n",
    "* ROC(Receiver Operating Characteristic) curve\n",
    "    - FPR(False Positive Rate)-x 이 변할때 TPR(True Positive Rate)-y의 변하는 정도\n",
    "    - \n"
   ]
  },
  {
   "cell_type": "code",
   "execution_count": null,
   "id": "976b9a18-6a86-4283-90ad-2e7f640f4bf3",
   "metadata": {},
   "outputs": [],
   "source": []
  }
 ],
 "metadata": {
  "kernelspec": {
   "display_name": "Python 3",
   "language": "python",
   "name": "python3"
  },
  "language_info": {
   "codemirror_mode": {
    "name": "ipython",
    "version": 3
   },
   "file_extension": ".py",
   "mimetype": "text/x-python",
   "name": "python",
   "nbconvert_exporter": "python",
   "pygments_lexer": "ipython3",
   "version": "3.8.8"
  }
 },
 "nbformat": 4,
 "nbformat_minor": 5
}
