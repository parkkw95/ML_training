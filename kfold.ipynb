{
 "cells": [
  {
   "cell_type": "markdown",
   "id": "97c8e836-c113-4f7a-9178-ca2990e87dfc",
   "metadata": {},
   "source": [
    "# k 폴드 교차검증\n",
    "- 데이터 량이 적거나 데이터가 편차등으로 인해 일정한수준의 머신러닝 효율을 보이지 않을때\n",
    "    - 머신러닝의 경우 해당트레이닝 세트에 최적화된 결과만 도출-> 과적합의 위험\n",
    "    - 트레이닝세트를 변화시켜 과적합의 위험을 줄이고 공정한 판단\n",
    "- 데이터셋을 n개로 나누고 블럭별로 돌아가면서 타겟값으로 지정하여 분석\n",
    "- 최종적으로 블럭별 나뉘어진 결과의 평균으로 머신러닝의 효율을 측정\n",
    "- 장점\n",
    "    * 모든 데이터셋을 활용\n",
    "    * 데이터 부족에 따른 편차 제거\n",
    "    * 일반화된 평가 모델(검증)\n",
    "- 단점\n",
    "    * 계산량이 많아서 비용 발생( 평가시간 오래걸림)\n",
    "<br>\n",
    "<img src=\"img/kfold.png\" width=400/>"
   ]
  },
  {
   "cell_type": "code",
   "execution_count": 26,
   "id": "ce040cbe-dd55-418e-bcc6-3f2db897c4a0",
   "metadata": {},
   "outputs": [],
   "source": [
    "# 라이브러리 불러오기\n",
    "import sklearn\n",
    "import numpy as np\n",
    "import pandas as pd\n",
    "import matplotlib as mpl\n",
    "import matplotlib.pyplot as plt\n",
    "import seaborn as sns"
   ]
  },
  {
   "cell_type": "code",
   "execution_count": 27,
   "id": "da42d26e-3a2a-402b-b2ef-5f02658e4e03",
   "metadata": {},
   "outputs": [
    {
     "data": {
      "text/plain": [
       "dict_keys(['data', 'target', 'frame', 'target_names', 'DESCR', 'feature_names', 'filename'])"
      ]
     },
     "execution_count": 27,
     "metadata": {},
     "output_type": "execute_result"
    }
   ],
   "source": [
    "# 데이터셋 수집\n",
    "from sklearn.datasets import load_iris\n",
    "iris=load_iris()\n",
    "iris.keys()"
   ]
  },
  {
   "cell_type": "markdown",
   "id": "febd6530-34be-467b-a71e-349c8ba89c8a",
   "metadata": {},
   "source": [
    "* 데이터 성격 파악\n",
    "    -Attribute Information:\n",
    "        - sepal length in cm\n",
    "        - sepal width in cm\n",
    "        - petal length in cm\n",
    "        - petal width in cm\n",
    "        - class:\n",
    "                - Iris-Setosa\n",
    "                - Iris-Versicolour\n",
    "                - Iris-Virginica"
   ]
  },
  {
   "cell_type": "code",
   "execution_count": 30,
   "id": "770e5816-7e18-4a67-87bd-22f1c73e59e6",
   "metadata": {
    "tags": []
   },
   "outputs": [
    {
     "data": {
      "text/html": [
       "<div>\n",
       "<style scoped>\n",
       "    .dataframe tbody tr th:only-of-type {\n",
       "        vertical-align: middle;\n",
       "    }\n",
       "\n",
       "    .dataframe tbody tr th {\n",
       "        vertical-align: top;\n",
       "    }\n",
       "\n",
       "    .dataframe thead th {\n",
       "        text-align: right;\n",
       "    }\n",
       "</style>\n",
       "<table border=\"1\" class=\"dataframe\">\n",
       "  <thead>\n",
       "    <tr style=\"text-align: right;\">\n",
       "      <th></th>\n",
       "      <th>slen</th>\n",
       "      <th>swid</th>\n",
       "      <th>plen</th>\n",
       "      <th>pwid</th>\n",
       "      <th>target</th>\n",
       "    </tr>\n",
       "  </thead>\n",
       "  <tbody>\n",
       "    <tr>\n",
       "      <th>145</th>\n",
       "      <td>6.7</td>\n",
       "      <td>3.0</td>\n",
       "      <td>5.2</td>\n",
       "      <td>2.3</td>\n",
       "      <td>2</td>\n",
       "    </tr>\n",
       "    <tr>\n",
       "      <th>146</th>\n",
       "      <td>6.3</td>\n",
       "      <td>2.5</td>\n",
       "      <td>5.0</td>\n",
       "      <td>1.9</td>\n",
       "      <td>2</td>\n",
       "    </tr>\n",
       "    <tr>\n",
       "      <th>147</th>\n",
       "      <td>6.5</td>\n",
       "      <td>3.0</td>\n",
       "      <td>5.2</td>\n",
       "      <td>2.0</td>\n",
       "      <td>2</td>\n",
       "    </tr>\n",
       "    <tr>\n",
       "      <th>148</th>\n",
       "      <td>6.2</td>\n",
       "      <td>3.4</td>\n",
       "      <td>5.4</td>\n",
       "      <td>2.3</td>\n",
       "      <td>2</td>\n",
       "    </tr>\n",
       "    <tr>\n",
       "      <th>149</th>\n",
       "      <td>5.9</td>\n",
       "      <td>3.0</td>\n",
       "      <td>5.1</td>\n",
       "      <td>1.8</td>\n",
       "      <td>2</td>\n",
       "    </tr>\n",
       "  </tbody>\n",
       "</table>\n",
       "</div>"
      ],
      "text/plain": [
       "     slen  swid  plen  pwid  target\n",
       "145   6.7   3.0   5.2   2.3       2\n",
       "146   6.3   2.5   5.0   1.9       2\n",
       "147   6.5   3.0   5.2   2.0       2\n",
       "148   6.2   3.4   5.4   2.3       2\n",
       "149   5.9   3.0   5.1   1.8       2"
      ]
     },
     "execution_count": 30,
     "metadata": {},
     "output_type": "execute_result"
    }
   ],
   "source": [
    "# 데이터 준비 \n",
    "# 데이터 합치기\n",
    "# 기본적 데이터 확인\n",
    "cols=['slen','swid','plen','pwid']\n",
    "idf=pd.DataFrame(data,columns=cols)\n",
    "idf['target']=iris['target']\n",
    "idf.tail()"
   ]
  },
  {
   "cell_type": "code",
   "execution_count": 60,
   "id": "4aa7d28d-d54b-476f-a43b-3e8325ab0a84",
   "metadata": {},
   "outputs": [
    {
     "name": "stdout",
     "output_type": "stream",
     "text": [
      "k폴드정확도: 0.92\n"
     ]
    }
   ],
   "source": [
    "# 데이터 준비\n",
    "from sklearn.model_selection import KFold\n",
    "from sklearn.tree import DecisionTreeClassifier\n",
    "from sklearn.metrics import accuracy_score\n",
    "\n",
    "kfold=KFold(n_splits=5)\n",
    "dtc=DecisionTreeClassifier(random_state=123)\n",
    "data=idf.loc[:,['slen','swid','plen','pwid']].values\n",
    "accs=[]\n",
    "for train_i,test_i in kfold.split(idf):\n",
    "    X_train,X_test=data[train_i],data[test_i]\n",
    "    y_train,y_test=iris['target'][train_i],iris['target'][test_i]\n",
    "    #print('*'*30)\n",
    "    #print(y_test)\n",
    "    dtc.fit(X_train,y_train)\n",
    "    pred=dtc.predict(X_test)\n",
    "    acco=accuracy_score(pred,y_test)\n",
    "    acc=np.round(acco,4)\n",
    "    accs.append(acc)\n",
    "kfoldacc=np.mean(accs)\n",
    "kacc=np.round(kfoldacc,4)\n",
    "print('k폴드정확도:',kacc)"
   ]
  },
  {
   "cell_type": "markdown",
   "id": "46f19a1a-5821-4de9-9582-4d31fa5ad76a",
   "metadata": {},
   "source": [
    "#### Stratified Kfold\n",
    "* 기존 K 폴드가 편향이 있는 데이터의 경우 폴드수가 작으면 심각한 검증 오류 발생\n",
    "* 기존 원본비율을 유지하면서 다층으로 분석하는 형태의 kfold\n"
   ]
  },
  {
   "cell_type": "code",
   "execution_count": 61,
   "id": "820a3d63-f77e-4c6d-b793-51d0bc8f6045",
   "metadata": {},
   "outputs": [
    {
     "name": "stdout",
     "output_type": "stream",
     "text": [
      "k폴드정확도: 0.96\n"
     ]
    }
   ],
   "source": [
    "# Stratified Kfold : 원본 비율유지 k 폴드\n",
    "from sklearn.model_selection import StratifiedKFold\n",
    "from sklearn.tree import DecisionTreeClassifier\n",
    "from sklearn.metrics import accuracy_score\n",
    "\n",
    "skfold=StratifiedKFold(n_splits=5)\n",
    "dtc=DecisionTreeClassifier(random_state=123)\n",
    "data=idf.loc[:,['slen','swid','plen','pwid']].values\n",
    "accs=[]\n",
    "for train_i,test_i in skfold.split(data,iris['target']):\n",
    "    X_train,X_test=data[train_i],data[test_i]\n",
    "    y_train,y_test=iris['target'][train_i],iris['target'][test_i]\n",
    "    #print('*'*30)\n",
    "    #print(y_test,test_i)\n",
    "    dtc.fit(X_train,y_train)\n",
    "    pred=dtc.predict(X_test)\n",
    "    acco=accuracy_score(pred,y_test)\n",
    "    acc=np.round(acco,4)\n",
    "    accs.append(acc)\n",
    "skfoldacc=np.mean(accs)\n",
    "skacc=np.round(skfoldacc,4)\n",
    "print('k폴드정확도:',skacc)"
   ]
  },
  {
   "cell_type": "code",
   "execution_count": 18,
   "id": "51bb24e8-b23a-4e80-9456-19a576fdfb7e",
   "metadata": {},
   "outputs": [
    {
     "data": {
      "text/plain": [
       "array([1, 2, 2, 1, 0, 1, 1, 0, 0, 1, 2, 0, 1, 2, 2, 2, 0, 0, 1, 0, 0, 2,\n",
       "       0, 2, 0, 0, 0, 2, 2, 0])"
      ]
     },
     "execution_count": 18,
     "metadata": {},
     "output_type": "execute_result"
    }
   ],
   "source": [
    "# 모델을 평가\n",
    "pred=dtc.predict(X_test)\n",
    "pred"
   ]
  },
  {
   "cell_type": "code",
   "execution_count": 19,
   "id": "54f90716-ddab-474e-b041-74053e8638b6",
   "metadata": {},
   "outputs": [
    {
     "data": {
      "text/plain": [
       "array([1, 2, 2, 1, 0, 2, 1, 0, 0, 1, 2, 0, 1, 2, 2, 2, 0, 0, 1, 0, 0, 2,\n",
       "       0, 2, 0, 0, 0, 2, 2, 0])"
      ]
     },
     "execution_count": 19,
     "metadata": {},
     "output_type": "execute_result"
    }
   ],
   "source": [
    "y_test"
   ]
  },
  {
   "cell_type": "code",
   "execution_count": 20,
   "id": "cb3e8ca7-d1c0-4902-a0e4-c50618b183f6",
   "metadata": {},
   "outputs": [
    {
     "data": {
      "text/plain": [
       "0.03333333333333333"
      ]
     },
     "execution_count": 20,
     "metadata": {},
     "output_type": "execute_result"
    }
   ],
   "source": [
    "# 라이브러리 안쓰고 정밀도 판단\n",
    "predf=pd.DataFrame(pred,columns=['pred'])\n",
    "predf['label']=y_test\n",
    "predf['diff']=predf['label']-predf['pred']\n",
    "base=len(predf)\n",
    "cor=len(predf[predf['diff']!=0])\n",
    "cor/base"
   ]
  },
  {
   "cell_type": "code",
   "execution_count": 21,
   "id": "f44fc678-e5cc-48af-943d-ffd3451e67cc",
   "metadata": {},
   "outputs": [
    {
     "data": {
      "text/plain": [
       "0.9666666666666667"
      ]
     },
     "execution_count": 21,
     "metadata": {},
     "output_type": "execute_result"
    }
   ],
   "source": [
    "# 라이브러리 써서 판단\n",
    "\n",
    "acc=accuracy_score(pred,y_test)\n",
    "acc"
   ]
  },
  {
   "cell_type": "code",
   "execution_count": 22,
   "id": "c0762014-6693-4aa0-b677-e8c2468ac514",
   "metadata": {},
   "outputs": [
    {
     "name": "stdout",
     "output_type": "stream",
     "text": [
      "명중률: 0.9666666666666667\n"
     ]
    }
   ],
   "source": [
    "def dtcPrs(X_train,X_test,y_train,y_test):\n",
    "    \n",
    "    dtc=DecisionTreeClassifier() # 모델설정\n",
    "    dtc.fit(X_train,y_train) # 트레이닝\n",
    "    \n",
    "    pred=dtc.predict(X_test) # 테스트 예측값 생성\n",
    "    acc=accuracy_score(pred,y_test)\n",
    "    print('명중률:',acc)\n",
    "dtcPrs(X_train,X_test,y_train,y_test) "
   ]
  },
  {
   "cell_type": "code",
   "execution_count": 23,
   "id": "2a6e75c1-518d-47e8-b866-b1d029b43dc6",
   "metadata": {},
   "outputs": [
    {
     "name": "stdout",
     "output_type": "stream",
     "text": [
      "명중률: 1.0\n"
     ]
    }
   ],
   "source": [
    "def mldtcPrs(X,Y):\n",
    "    X_train,X_test,y_train,y_test=train_test_split(X,Y,shuffle=True,test_size=0.2)\n",
    "    dtcPrs(X_train,X_test,y_train,y_test)\n",
    "mldtcPrs(X,Y)"
   ]
  },
  {
   "cell_type": "code",
   "execution_count": 24,
   "id": "66bc60e6-0815-4d3c-9e6a-e018f21dc410",
   "metadata": {},
   "outputs": [
    {
     "name": "stdout",
     "output_type": "stream",
     "text": [
      "knn 명중률: 0.9\n"
     ]
    },
    {
     "data": {
      "text/plain": [
       "0.9"
      ]
     },
     "execution_count": 24,
     "metadata": {},
     "output_type": "execute_result"
    }
   ],
   "source": [
    "# knn 모델 사용\n",
    "from sklearn.neighbors import KNeighborsClassifier\n",
    "def knnPrs(X_train,X_test,y_train,y_test,param=2):\n",
    "    knn=KNeighborsClassifier(n_neighbors=param) # 모델설정\n",
    "    knn.fit(X_train,y_train) # 트레이닝\n",
    "    # 평가\n",
    "    pred=knn.predict(X_test) # 테스트 예측값 생성\n",
    "    acc=accuracy_score(pred,y_test)\n",
    "    print('knn 명중률:',acc)\n",
    "    return acc\n",
    "knnPrs(X_train,X_test,y_train,y_test) "
   ]
  },
  {
   "cell_type": "raw",
   "id": "f913be97-3df4-457b-b75e-929a90cf02b5",
   "metadata": {},
   "source": [
    "# 튜닝\n",
    "res=[]\n",
    "for i in range(2,30):\n",
    "    acc=knnPrs(X_train,X_test,y_train,y_test,param=i)\n",
    "    res.append(res)\n",
    "res"
   ]
  },
  {
   "cell_type": "raw",
   "id": "17b12984-3bbd-4450-906b-b194a2792345",
   "metadata": {},
   "source": [
    "plt.plot(res)"
   ]
  },
  {
   "cell_type": "code",
   "execution_count": 25,
   "id": "356113ae-1984-42fb-8181-7cbdb73d3f98",
   "metadata": {},
   "outputs": [],
   "source": [
    "# 예측모델 : 모델선정, 파라미터값"
   ]
  }
 ],
 "metadata": {
  "kernelspec": {
   "display_name": "Python 3",
   "language": "python",
   "name": "python3"
  },
  "language_info": {
   "codemirror_mode": {
    "name": "ipython",
    "version": 3
   },
   "file_extension": ".py",
   "mimetype": "text/x-python",
   "name": "python",
   "nbconvert_exporter": "python",
   "pygments_lexer": "ipython3",
   "version": "3.8.8"
  }
 },
 "nbformat": 4,
 "nbformat_minor": 5
}
